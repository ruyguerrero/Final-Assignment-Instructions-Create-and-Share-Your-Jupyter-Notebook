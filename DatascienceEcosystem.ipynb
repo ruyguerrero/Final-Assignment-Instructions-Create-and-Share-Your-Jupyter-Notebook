{
 "cells": [
  {
   "cell_type": "markdown",
   "id": "3fefea34-db9b-46c3-b0b5-b746bfed1192",
   "metadata": {},
   "source": [
    "# Data Science Tools and Ecosystem"
   ]
  },
  {
   "attachments": {},
   "cell_type": "markdown",
   "id": "2db34dba-3dc6-429e-9d64-d1beb94c29d5",
   "metadata": {},
   "source": [
    "### In this notebook, Data Science Tools and Ecosystem are summarized."
   ]
  },
  {
   "cell_type": "markdown",
   "id": "4eaf1421-6321-4fe5-821c-beb9605aeca2",
   "metadata": {},
   "source": [
    "### *Objectives:*\n",
    "1. java\n",
    "2. julia\n",
    "3. SQL\n",
    "4. Python"
   ]
  },
  {
   "cell_type": "markdown",
   "id": "d1236380-ea79-40f0-8a27-77e5790a097e",
   "metadata": {},
   "source": [
    "### List of the popular data science languages\n",
    "1. R\n",
    "2. Python\n",
    "3. SQL"
   ]
  },
  {
   "cell_type": "markdown",
   "id": "e4dff822-d2e5-48b2-bf72-5e01036a459a",
   "metadata": {},
   "source": [
    "### Some of the commonly used libraries used by Data Scientists:\n",
    "1. Pandas\n",
    "2. NumPy\n",
    "3. Matplotlib"
   ]
  },
  {
   "cell_type": "markdown",
   "id": "5d283d58-974c-4d1f-a9a0-e4b6e35c3771",
   "metadata": {},
   "source": [
    "### Data science tools\n",
    "\n",
    "| Data Science tools |\n",
    "|-------|\n",
    "| Apache spark |\n",
    "| Julia |\n",
    "| Jupyter notebook |"
   ]
  },
  {
   "cell_type": "markdown",
   "id": "f92c887b-7fb8-4e97-9053-61c29b91e2c1",
   "metadata": {},
   "source": [
    "### Below are a few examples of evaluating arithmetic expressions in Python."
   ]
  },
  {
   "cell_type": "code",
   "execution_count": 26,
   "id": "6bd5144f-f3f0-465f-a538-b8cd2cb92e5d",
   "metadata": {},
   "outputs": [
    {
     "data": {
      "text/plain": [
       "17"
      ]
     },
     "execution_count": 26,
     "metadata": {},
     "output_type": "execute_result"
    }
   ],
   "source": [
    "### This a simple arithmetic expression to mutiply then add integers\n",
    "(3*4)+5"
   ]
  },
  {
   "cell_type": "code",
   "execution_count": 28,
   "id": "4b900565-2e32-432a-91df-8371b0638b07",
   "metadata": {},
   "outputs": [
    {
     "data": {
      "text/plain": [
       "3.3333333333333335"
      ]
     },
     "execution_count": 28,
     "metadata": {},
     "output_type": "execute_result"
    }
   ],
   "source": [
    "### This will convert 200 minutes to hours by diving by 60\n",
    "(200/60)"
   ]
  },
  {
   "cell_type": "markdown",
   "id": "5c411b92-4b78-41f9-aa14-50ec97de530a",
   "metadata": {},
   "source": [
    "## Author\n",
    " ### Ruy Guerrero"
   ]
  },
  {
   "cell_type": "code",
   "execution_count": null,
   "id": "b9ee3ccd-0226-4631-ae81-28868964b7eb",
   "metadata": {},
   "outputs": [],
   "source": []
  }
 ],
 "metadata": {
  "kernelspec": {
   "display_name": "Python 3 (ipykernel)",
   "language": "python",
   "name": "python3"
  },
  "language_info": {
   "codemirror_mode": {
    "name": "ipython",
    "version": 3
   },
   "file_extension": ".py",
   "mimetype": "text/x-python",
   "name": "python",
   "nbconvert_exporter": "python",
   "pygments_lexer": "ipython3",
   "version": "3.12.7"
  }
 },
 "nbformat": 4,
 "nbformat_minor": 5
}
